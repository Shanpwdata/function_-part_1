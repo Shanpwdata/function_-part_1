{
 "cells": [
  {
   "cell_type": "markdown",
   "id": "29790bf2-4ae5-42ff-895f-4f6f242e9bdc",
   "metadata": {},
   "source": [
    "Q1. Which keyword is used to create a function? Create a function to return a list of odd numbers in the\n",
    "range of 1 to 25."
   ]
  },
  {
   "cell_type": "markdown",
   "id": "2a8fe8fe-7a27-497e-befa-156fbf6c6b4a",
   "metadata": {},
   "source": [
    "Ans_1. \"def\" key word is used to create function."
   ]
  },
  {
   "cell_type": "code",
   "execution_count": 1,
   "id": "2d03d5cd-3542-43f4-a824-1b8dad322cd7",
   "metadata": {},
   "outputs": [],
   "source": [
    "def odd_number():\n",
    "    l = []\n",
    "    for i in range(1,25):\n",
    "        if i % 2 != 0 :\n",
    "            l.append(i)\n",
    "    return l          "
   ]
  },
  {
   "cell_type": "code",
   "execution_count": 2,
   "id": "65c62a07-f1bc-48a5-9dec-6b4c6b784e7e",
   "metadata": {},
   "outputs": [
    {
     "data": {
      "text/plain": [
       "[1, 3, 5, 7, 9, 11, 13, 15, 17, 19, 21, 23]"
      ]
     },
     "execution_count": 2,
     "metadata": {},
     "output_type": "execute_result"
    }
   ],
   "source": [
    "odd_number()"
   ]
  },
  {
   "cell_type": "markdown",
   "id": "ed00a9f5-abaa-4374-a5d1-7c6dc8c5231d",
   "metadata": {},
   "source": [
    "Q2. Why *args and **kwargs is used in some functions? Create a function each for *args and **kwargs\n",
    "to demonstrate their use."
   ]
  },
  {
   "cell_type": "markdown",
   "id": "43cc07dd-f134-4357-a0d6-e19aecab2367",
   "metadata": {},
   "source": [
    "Ans_2. (*args) is used for multiple input in function, (*args) output will in tuple and (**kwargs) is used for multiple input in the form of (key : value pair) in function, (**kwargs) output will in dictionary."
   ]
  },
  {
   "cell_type": "code",
   "execution_count": 3,
   "id": "9e8f37dd-3721-41f6-9190-e86f51099175",
   "metadata": {},
   "outputs": [],
   "source": [
    "# Example of *args :-\n",
    "def data_(*args):\n",
    "    return args"
   ]
  },
  {
   "cell_type": "code",
   "execution_count": 4,
   "id": "10fddb91-8aed-4e34-bca4-23452317269a",
   "metadata": {},
   "outputs": [
    {
     "data": {
      "text/plain": [
       "(1, 2, 3, 'Shantam', 12.36, [1, 4, 1, 4, 5, 3])"
      ]
     },
     "execution_count": 4,
     "metadata": {},
     "output_type": "execute_result"
    }
   ],
   "source": [
    "data_(1,2,3, \"Shantam\", 12.36, [1,4,1,4,5,3]) # multiple data type "
   ]
  },
  {
   "cell_type": "code",
   "execution_count": 5,
   "id": "701e0a69-2a59-449a-b1fa-80a5ce88ef2b",
   "metadata": {},
   "outputs": [
    {
     "data": {
      "text/plain": [
       "tuple"
      ]
     },
     "execution_count": 5,
     "metadata": {},
     "output_type": "execute_result"
    }
   ],
   "source": [
    "type(data_())"
   ]
  },
  {
   "cell_type": "code",
   "execution_count": 6,
   "id": "15650802-841e-42dc-95b0-ca66493e7d7d",
   "metadata": {},
   "outputs": [],
   "source": [
    "# Example of *args :-\n",
    "def data_key_value(**kwargs):\n",
    "    return kwargs"
   ]
  },
  {
   "cell_type": "code",
   "execution_count": 7,
   "id": "18d1a56d-c7de-4798-a7df-71a3f1965e04",
   "metadata": {},
   "outputs": [
    {
     "data": {
      "text/plain": [
       "{'a': 'shantam', 'b': 29, 'c': 'Male'}"
      ]
     },
     "execution_count": 7,
     "metadata": {},
     "output_type": "execute_result"
    }
   ],
   "source": [
    "data_key_value( a = \"shantam\", b = 29, c = \"Male\")"
   ]
  },
  {
   "cell_type": "code",
   "execution_count": 8,
   "id": "5297e17c-7f85-492d-90d2-80ad3f7b0ad2",
   "metadata": {},
   "outputs": [
    {
     "data": {
      "text/plain": [
       "dict"
      ]
     },
     "execution_count": 8,
     "metadata": {},
     "output_type": "execute_result"
    }
   ],
   "source": [
    "type(data_key_value())"
   ]
  },
  {
   "cell_type": "markdown",
   "id": "efaf90c8-1e04-4f16-96c8-2445384f658b",
   "metadata": {},
   "source": [
    "Q3.  What is an iterator in python? Name the method used to initialise the iterator object and the method\n",
    "used for iteration. Use these methods to print the first five elements of the given list [2, 4, 6, 8, 10, 12, 14,\n",
    "16, 18, 20]."
   ]
  },
  {
   "cell_type": "markdown",
   "id": "2a8ce706-289f-411c-bdd9-976b25792b61",
   "metadata": {},
   "source": [
    "Ans_3. In Python, an iterator object is used to iterate over the collections of data, such as lists, tuples, dictionaries, and sets."
   ]
  },
  {
   "cell_type": "code",
   "execution_count": 9,
   "id": "d0852ecc-31de-47d9-865b-b7c570490b24",
   "metadata": {},
   "outputs": [
    {
     "data": {
      "text/plain": [
       "'S'"
      ]
     },
     "execution_count": 9,
     "metadata": {},
     "output_type": "execute_result"
    }
   ],
   "source": [
    "#### Method to intialise and method of the iterator object :-\n",
    "#### example :-\n",
    "s = \"Shantam\"\n",
    "s1 = iter(s) ###intialise the iterator object with iter() function.\n",
    "next(s1)"
   ]
  },
  {
   "cell_type": "code",
   "execution_count": 10,
   "id": "b5ab7546-1ae4-448d-a805-938a14ec94ba",
   "metadata": {},
   "outputs": [
    {
     "data": {
      "text/plain": [
       "'h'"
      ]
     },
     "execution_count": 10,
     "metadata": {},
     "output_type": "execute_result"
    }
   ],
   "source": [
    "next(s1)"
   ]
  },
  {
   "cell_type": "code",
   "execution_count": 11,
   "id": "51005658-f726-402c-908b-c66980a95b0b",
   "metadata": {},
   "outputs": [
    {
     "data": {
      "text/plain": [
       "'a'"
      ]
     },
     "execution_count": 11,
     "metadata": {},
     "output_type": "execute_result"
    }
   ],
   "source": [
    "next(s1)"
   ]
  },
  {
   "cell_type": "code",
   "execution_count": 12,
   "id": "9db85233-8f01-41e4-ac39-7d984d119c1c",
   "metadata": {},
   "outputs": [],
   "source": [
    "lst = [2, 4, 6, 8, 10, 12, 14, 16, 18, 20]"
   ]
  },
  {
   "cell_type": "code",
   "execution_count": 13,
   "id": "9ee9a28f-79b5-43c3-84c8-5e363894c9c3",
   "metadata": {},
   "outputs": [],
   "source": [
    "l1 = iter(lst)"
   ]
  },
  {
   "cell_type": "code",
   "execution_count": 14,
   "id": "eea26e2f-66eb-46d0-9082-af9631d21d23",
   "metadata": {},
   "outputs": [
    {
     "data": {
      "text/plain": [
       "2"
      ]
     },
     "execution_count": 14,
     "metadata": {},
     "output_type": "execute_result"
    }
   ],
   "source": [
    "next(l1)"
   ]
  },
  {
   "cell_type": "code",
   "execution_count": 15,
   "id": "dd04ce6d-c9f5-4964-aafd-c60d08c106e5",
   "metadata": {},
   "outputs": [
    {
     "data": {
      "text/plain": [
       "4"
      ]
     },
     "execution_count": 15,
     "metadata": {},
     "output_type": "execute_result"
    }
   ],
   "source": [
    "next(l1)"
   ]
  },
  {
   "cell_type": "code",
   "execution_count": 16,
   "id": "63e72107-fc44-48c8-abad-04ec5afef086",
   "metadata": {},
   "outputs": [
    {
     "data": {
      "text/plain": [
       "6"
      ]
     },
     "execution_count": 16,
     "metadata": {},
     "output_type": "execute_result"
    }
   ],
   "source": [
    "next(l1)"
   ]
  },
  {
   "cell_type": "code",
   "execution_count": 17,
   "id": "21a3ed7e-9ca0-445f-b7aa-3c7aad628d45",
   "metadata": {},
   "outputs": [
    {
     "data": {
      "text/plain": [
       "8"
      ]
     },
     "execution_count": 17,
     "metadata": {},
     "output_type": "execute_result"
    }
   ],
   "source": [
    "next(l1)"
   ]
  },
  {
   "cell_type": "code",
   "execution_count": 18,
   "id": "4eedc006-1409-4810-bd1b-f1c4e8d61654",
   "metadata": {},
   "outputs": [
    {
     "data": {
      "text/plain": [
       "10"
      ]
     },
     "execution_count": 18,
     "metadata": {},
     "output_type": "execute_result"
    }
   ],
   "source": [
    "next(l1)"
   ]
  },
  {
   "cell_type": "markdown",
   "id": "9715ac62-b08f-4124-8e86-c641d31454a6",
   "metadata": {},
   "source": [
    "Q4.  What is a generator function in python? Why yield keyword is used? Give an example of a generator\n",
    "function."
   ]
  },
  {
   "cell_type": "markdown",
   "id": "4f6a9b81-2740-491d-aa97-ebaa93e06d23",
   "metadata": {},
   "source": [
    "Ans_4. In python generator function is used to over come the memory consuption or optimize memory consuption, generator function is basically denoted by yield keyword, yield keyword is used to create generator object."
   ]
  },
  {
   "cell_type": "code",
   "execution_count": 19,
   "id": "82aa1bc5-5ad1-4aa5-9858-841acd2a67f4",
   "metadata": {},
   "outputs": [],
   "source": [
    "#### Example of Generator function :- \n",
    "def num_series(n):\n",
    "    l3 = []\n",
    "    for i in range(n):\n",
    "        l3.append(i)\n",
    "        yield i"
   ]
  },
  {
   "cell_type": "code",
   "execution_count": 20,
   "id": "729bedf9-8a4e-424d-b682-d6673b0f030c",
   "metadata": {},
   "outputs": [
    {
     "data": {
      "text/plain": [
       "<generator object num_series at 0x7f89b1061fc0>"
      ]
     },
     "execution_count": 20,
     "metadata": {},
     "output_type": "execute_result"
    }
   ],
   "source": [
    "num_series(10)"
   ]
  },
  {
   "cell_type": "code",
   "execution_count": 21,
   "id": "67b7d7f8-da6f-4f6b-b2bb-531e0dd98667",
   "metadata": {},
   "outputs": [],
   "source": [
    "num_series_list = num_series(10)"
   ]
  },
  {
   "cell_type": "code",
   "execution_count": 22,
   "id": "dcd0042f-48aa-4d04-a7b6-7f3cdd8ac07b",
   "metadata": {},
   "outputs": [
    {
     "data": {
      "text/plain": [
       "[0, 1, 2, 3, 4, 5, 6, 7, 8, 9]"
      ]
     },
     "execution_count": 22,
     "metadata": {},
     "output_type": "execute_result"
    }
   ],
   "source": [
    "list(num_series_list)"
   ]
  },
  {
   "cell_type": "markdown",
   "id": "6b02b014-daef-4603-8d26-0bd2f5e762f5",
   "metadata": {},
   "source": [
    "Q5. Create a generator function for prime numbers less than 1000. Use the next() method to print the\n",
    "first 20 prime numbers."
   ]
  },
  {
   "cell_type": "code",
   "execution_count": 23,
   "id": "0c5e9657-ea76-4f54-b559-8eb38d934d80",
   "metadata": {},
   "outputs": [],
   "source": [
    "#### Ans_5.\n",
    "def prime_num():\n",
    "    num = 2\n",
    "    for num in range(2,1000):\n",
    "        if is_prime(num):\n",
    "            yield num\n",
    "        num += 1\n",
    "    return num\n",
    "        \n",
    "def is_prime(n):\n",
    "    if n < 2 :\n",
    "        return False\n",
    "    for i in range (2, int(n**0.5)+1):\n",
    "        if n % i == 0:\n",
    "            return False\n",
    "    return True"
   ]
  },
  {
   "cell_type": "code",
   "execution_count": 24,
   "id": "1c5c215a-8067-42dd-861a-14557d2f1e6a",
   "metadata": {},
   "outputs": [],
   "source": [
    "generating_prime_no = prime_num()"
   ]
  },
  {
   "cell_type": "code",
   "execution_count": 25,
   "id": "42dc14e7-5bbb-45de-aae9-a078ef7ecc7c",
   "metadata": {},
   "outputs": [
    {
     "data": {
      "text/plain": [
       "[2, 3, 5, 7, 11, 13, 17, 19, 23, 29, 31, 37, 41, 43, 47, 53, 59, 61, 67, 71]"
      ]
     },
     "execution_count": 25,
     "metadata": {},
     "output_type": "execute_result"
    }
   ],
   "source": [
    "list(next(generating_prime_no)for i in range(20))"
   ]
  },
  {
   "cell_type": "markdown",
   "id": "f1d26987-0128-4078-baee-3d3285cbde53",
   "metadata": {},
   "source": [
    "Q6. Write a python program to print the first 10 Fibonacci numbers using a while loop."
   ]
  },
  {
   "cell_type": "code",
   "execution_count": 26,
   "id": "364cdd95-87ce-4449-9438-0d1a9f38ccfa",
   "metadata": {},
   "outputs": [
    {
     "name": "stdout",
     "output_type": "stream",
     "text": [
      "1\n",
      "2\n",
      "3\n",
      "5\n",
      "8\n",
      "13\n",
      "21\n",
      "34\n",
      "55\n",
      "89\n"
     ]
    }
   ],
   "source": [
    "#### Ans_6.\n",
    "a = 0\n",
    "b = 1\n",
    "i = 0\n",
    "while i < 10:\n",
    "    a,b = b,a+b\n",
    "    print(b)\n",
    "    i +=1"
   ]
  },
  {
   "cell_type": "markdown",
   "id": "062e575b-b048-40a5-80ce-8defdc53952d",
   "metadata": {},
   "source": [
    "Q7. Write a List Comprehension to iterate through the given string: ‘pwskills’.\n",
    "\n",
    "Expected output: ['p', 'w', 's', 'k', 'i', 'l', 'l', 's'] "
   ]
  },
  {
   "cell_type": "code",
   "execution_count": 27,
   "id": "89721121-3326-494b-b551-b5b669295a42",
   "metadata": {},
   "outputs": [
    {
     "data": {
      "text/plain": [
       "'pwskills'"
      ]
     },
     "execution_count": 27,
     "metadata": {},
     "output_type": "execute_result"
    }
   ],
   "source": [
    "#### Ans_7.\n",
    "\"pwskills\""
   ]
  },
  {
   "cell_type": "code",
   "execution_count": 28,
   "id": "2d1cdad1-9312-4c9c-ac1c-e8e9ef075d37",
   "metadata": {},
   "outputs": [
    {
     "data": {
      "text/plain": [
       "['p', 'w', 's', 'k', 'i', 'l', 'l', 's']"
      ]
     },
     "execution_count": 28,
     "metadata": {},
     "output_type": "execute_result"
    }
   ],
   "source": [
    "new_str = [x for x in \"pwskills\"]\n",
    "new_str"
   ]
  },
  {
   "cell_type": "markdown",
   "id": "d6bda622-9043-458e-b2bb-0031e6fa4b65",
   "metadata": {},
   "source": [
    "Q8. Write a python program to check whether a given number is Palindrome or not using a while loop."
   ]
  },
  {
   "cell_type": "code",
   "execution_count": 37,
   "id": "0b5690fb-f8bd-4c94-9dde-1bc5367a4612",
   "metadata": {},
   "outputs": [],
   "source": [
    "####Ans_8.\n",
    "def is_Palindrome(num):\n",
    "    temp = num\n",
    "    rev = 0\n",
    "    while temp > 0 :\n",
    "        rev = (rev * 10) + temp % 10\n",
    "        temp = temp//10\n",
    "    if rev == num :\n",
    "        print(num, 'Numbers are palindrome')\n",
    "    else :\n",
    "        print(num, 'Numbers are not palindrome')"
   ]
  },
  {
   "cell_type": "code",
   "execution_count": 38,
   "id": "e7222fe6-3fb5-4536-ba88-0577cbcf8227",
   "metadata": {},
   "outputs": [
    {
     "name": "stdout",
     "output_type": "stream",
     "text": [
      "12321 Numbers are palindrome\n"
     ]
    }
   ],
   "source": [
    "is_Palindrome(12321)"
   ]
  },
  {
   "cell_type": "markdown",
   "id": "2561af67-7473-4599-a45e-dfa944261d5f",
   "metadata": {},
   "source": [
    "Q9. Write a code to print odd numbers from 1 to 100 using list comprehension.\n",
    "\n",
    "Note: Use a list comprehension to create a list from 1 to 100 and use another List comprehension to filter\n",
    "out odd numbers."
   ]
  },
  {
   "cell_type": "code",
   "execution_count": 6,
   "id": "2514734c-6adb-4084-b29c-ed751b4eefd7",
   "metadata": {},
   "outputs": [
    {
     "data": {
      "text/plain": [
       "[1,\n",
       " 2,\n",
       " 3,\n",
       " 4,\n",
       " 5,\n",
       " 6,\n",
       " 7,\n",
       " 8,\n",
       " 9,\n",
       " 10,\n",
       " 11,\n",
       " 12,\n",
       " 13,\n",
       " 14,\n",
       " 15,\n",
       " 16,\n",
       " 17,\n",
       " 18,\n",
       " 19,\n",
       " 20,\n",
       " 21,\n",
       " 22,\n",
       " 23,\n",
       " 24,\n",
       " 25,\n",
       " 26,\n",
       " 27,\n",
       " 28,\n",
       " 29,\n",
       " 30,\n",
       " 31,\n",
       " 32,\n",
       " 33,\n",
       " 34,\n",
       " 35,\n",
       " 36,\n",
       " 37,\n",
       " 38,\n",
       " 39,\n",
       " 40,\n",
       " 41,\n",
       " 42,\n",
       " 43,\n",
       " 44,\n",
       " 45,\n",
       " 46,\n",
       " 47,\n",
       " 48,\n",
       " 49,\n",
       " 50,\n",
       " 51,\n",
       " 52,\n",
       " 53,\n",
       " 54,\n",
       " 55,\n",
       " 56,\n",
       " 57,\n",
       " 58,\n",
       " 59,\n",
       " 60,\n",
       " 61,\n",
       " 62,\n",
       " 63,\n",
       " 64,\n",
       " 65,\n",
       " 66,\n",
       " 67,\n",
       " 68,\n",
       " 69,\n",
       " 70,\n",
       " 71,\n",
       " 72,\n",
       " 73,\n",
       " 74,\n",
       " 75,\n",
       " 76,\n",
       " 77,\n",
       " 78,\n",
       " 79,\n",
       " 80,\n",
       " 81,\n",
       " 82,\n",
       " 83,\n",
       " 84,\n",
       " 85,\n",
       " 86,\n",
       " 87,\n",
       " 88,\n",
       " 89,\n",
       " 90,\n",
       " 91,\n",
       " 92,\n",
       " 93,\n",
       " 94,\n",
       " 95,\n",
       " 96,\n",
       " 97,\n",
       " 98,\n",
       " 99]"
      ]
     },
     "execution_count": 6,
     "metadata": {},
     "output_type": "execute_result"
    }
   ],
   "source": [
    "####Ans_9.\n",
    "lst = [x for x in range(1,100)]\n",
    "lst"
   ]
  },
  {
   "cell_type": "code",
   "execution_count": 7,
   "id": "3d208dbc-4343-4a0d-84e2-6ffbf6d63a35",
   "metadata": {},
   "outputs": [],
   "source": [
    "lst1 = list(filter(lambda x: x % 2 != 0,lst))"
   ]
  },
  {
   "cell_type": "code",
   "execution_count": 8,
   "id": "82151e9f-fb14-4141-819a-3360bed3da1a",
   "metadata": {},
   "outputs": [
    {
     "data": {
      "text/plain": [
       "[1,\n",
       " 3,\n",
       " 5,\n",
       " 7,\n",
       " 9,\n",
       " 11,\n",
       " 13,\n",
       " 15,\n",
       " 17,\n",
       " 19,\n",
       " 21,\n",
       " 23,\n",
       " 25,\n",
       " 27,\n",
       " 29,\n",
       " 31,\n",
       " 33,\n",
       " 35,\n",
       " 37,\n",
       " 39,\n",
       " 41,\n",
       " 43,\n",
       " 45,\n",
       " 47,\n",
       " 49,\n",
       " 51,\n",
       " 53,\n",
       " 55,\n",
       " 57,\n",
       " 59,\n",
       " 61,\n",
       " 63,\n",
       " 65,\n",
       " 67,\n",
       " 69,\n",
       " 71,\n",
       " 73,\n",
       " 75,\n",
       " 77,\n",
       " 79,\n",
       " 81,\n",
       " 83,\n",
       " 85,\n",
       " 87,\n",
       " 89,\n",
       " 91,\n",
       " 93,\n",
       " 95,\n",
       " 97,\n",
       " 99]"
      ]
     },
     "execution_count": 8,
     "metadata": {},
     "output_type": "execute_result"
    }
   ],
   "source": [
    "lst1"
   ]
  },
  {
   "cell_type": "code",
   "execution_count": null,
   "id": "aded2716-ee9c-4c63-a2f5-15f0bfca1dac",
   "metadata": {},
   "outputs": [],
   "source": []
  }
 ],
 "metadata": {
  "kernelspec": {
   "display_name": "Python 3 (ipykernel)",
   "language": "python",
   "name": "python3"
  },
  "language_info": {
   "codemirror_mode": {
    "name": "ipython",
    "version": 3
   },
   "file_extension": ".py",
   "mimetype": "text/x-python",
   "name": "python",
   "nbconvert_exporter": "python",
   "pygments_lexer": "ipython3",
   "version": "3.10.8"
  }
 },
 "nbformat": 4,
 "nbformat_minor": 5
}
